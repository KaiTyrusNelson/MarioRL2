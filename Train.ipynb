{
 "cells": [
  {
   "cell_type": "code",
   "execution_count": null,
   "id": "b633721c",
   "metadata": {},
   "outputs": [],
   "source": [
    "## YOU MUST RUN THIS IN PYTHON 3.8.1\n",
    "!pip install gym==0.21.0\n",
    "!pip install -qq gym-super-mario-bros\n",
    "!pip -qq install stable-baselines3==1.6.0\n",
    "!pip install opencv-python"
   ]
  },
  {
   "cell_type": "code",
   "execution_count": null,
   "id": "f1d0b625-45ea-4efb-a49d-baef9fe70e77",
   "metadata": {},
   "outputs": [],
   "source": [
    "import networks\n",
    "from env import train\n",
    "import env\n",
    "import torch"
   ]
  },
  {
   "cell_type": "markdown",
   "id": "008027fc-aa83-4088-bc7a-cb6a9048c59e",
   "metadata": {},
   "source": [
    "### Training:\n",
    "\n",
    "Training of models can be performed here"
   ]
  },
  {
   "cell_type": "code",
   "execution_count": null,
   "id": "5deb8319-2b06-46f1-bd3c-e1342a9b5672",
   "metadata": {},
   "outputs": [],
   "source": [
    "train('./None', activation_function = torch.nn.Tanh, orthagonal_init=True, grad_norm = 0.5)"
   ]
  },
  {
   "cell_type": "code",
   "execution_count": null,
   "id": "9c9cdd77-05aa-477f-954c-03136e2ef5b5",
   "metadata": {},
   "outputs": [],
   "source": [
    "train('./Intrins', activation_function = torch.nn.Tanh, orthagonal_init=True, grad_norm = 0.5, intrins_reward = True)"
   ]
  },
  {
   "cell_type": "code",
   "execution_count": null,
   "id": "67022f3e-1efa-49ca-8d19-026c0eae0bea",
   "metadata": {},
   "outputs": [],
   "source": [
    "train('./Annealing', activation_function = torch.nn.Tanh, orthagonal_init=True, grad_norm = 0.5, annealing = True)"
   ]
  },
  {
   "cell_type": "code",
   "execution_count": null,
   "id": "1cbb92a4-a5be-49d8-8940-33292e55ce74",
   "metadata": {},
   "outputs": [],
   "source": [
    "train('./ValueClip', activation_function = torch.nn.Tanh, orthagonal_init=True, grad_norm = 0.5, value_clip = 0.2)"
   ]
  },
  {
   "cell_type": "code",
   "execution_count": null,
   "id": "11a87f26-61fd-401d-a8d2-94b6ea8062ac",
   "metadata": {},
   "outputs": [],
   "source": [
    "train('./Base')"
   ]
  },
  {
   "cell_type": "code",
   "execution_count": null,
   "id": "7e0a20fc-8330-42ac-8bd9-3e6a0b1377c9",
   "metadata": {},
   "outputs": [],
   "source": [
    "train('./VNet[64,64]', activation_function = torch.nn.Tanh, orthagonal_init=True, grad_norm = 0.5, arch=[64,64])"
   ]
  },
  {
   "cell_type": "code",
   "execution_count": null,
   "id": "88892a31-cef6-4cc2-8b2c-1c604b55f503",
   "metadata": {},
   "outputs": [],
   "source": [
    "train('./VNet[32,32,32,32]', activation_function = torch.nn.Tanh, grad_norm = 0.5, orthagonal_init=True, arch=[32, 32, 32, 32])"
   ]
  },
  {
   "cell_type": "code",
   "execution_count": null,
   "id": "3b05c153-f7bd-41b7-8ec8-1af7a5654e2c",
   "metadata": {},
   "outputs": [],
   "source": [
    "train('./VNet[64,64,64,64]', activation_function = torch.nn.Tanh, grad_norm = 0.5, orthagonal_init=True, arch=[64, 64, 64, 64])"
   ]
  },
  {
   "cell_type": "code",
   "execution_count": null,
   "id": "9ccb777a-704d-4fac-be8f-d45e44226950",
   "metadata": {},
   "outputs": [],
   "source": [
    "train('./NoneExtractor2', activation_function = torch.nn.Tanh, orthagonal_init=True, grad_norm = 0.5, feature_extractor = 2)"
   ]
  },
  {
   "cell_type": "code",
   "execution_count": null,
   "id": "8ad54c9c-948b-40d2-908d-2c6aceeaf9c5",
   "metadata": {},
   "outputs": [],
   "source": [
    "train('./NoneExtractor3', activation_function = torch.nn.Tanh, orthagonal_init=True, grad_norm = 0.5,feature_extractor = 3)"
   ]
  },
  {
   "cell_type": "code",
   "execution_count": null,
   "id": "e5882e70-56c3-4748-8383-b95c43148c3b",
   "metadata": {},
   "outputs": [],
   "source": [
    "train('./VNet[16]', activation_function = torch.nn.Tanh, grad_norm = 0.5, orthagonal_init=True, arch=[16])"
   ]
  },
  {
   "cell_type": "code",
   "execution_count": null,
   "id": "40fd7c94-6682-49d9-a4d2-78b747ecf174",
   "metadata": {},
   "outputs": [],
   "source": [
    "train('./VNet[16, 16]', activation_function = torch.nn.Tanh, grad_norm = 0.5, orthagonal_init=True, arch=[16, 16])"
   ]
  },
  {
   "cell_type": "code",
   "execution_count": null,
   "id": "952240a0-c282-4557-9269-d3bf1e5ce192",
   "metadata": {},
   "outputs": [],
   "source": [
    "train('./yPosReward', activation_function = torch.nn.Tanh, orthagonal_init=True, grad_norm = 0.5, reward_scheme = 'y')"
   ]
  },
  {
   "cell_type": "code",
   "execution_count": null,
   "id": "ea66de06-611b-4013-bd2c-a7c47365f829",
   "metadata": {},
   "outputs": [],
   "source": [
    "train('./scoreReward', activation_function = torch.nn.Tanh, orthagonal_init=True, grad_norm = 0.5, reward_scheme = 'score')"
   ]
  },
  {
   "cell_type": "code",
   "execution_count": null,
   "id": "35335233-b812-4abf-9a42-8b205b4197e5",
   "metadata": {},
   "outputs": [],
   "source": [
    "train('./RewardClip', activation_function = torch.nn.Tanh, orthagonal_init=True, grad_norm = 0.5, reward_clip=15.0)"
   ]
  },
  {
   "cell_type": "code",
   "execution_count": null,
   "id": "8170cef7-eefd-4458-aae6-9a27a1fa957d",
   "metadata": {},
   "outputs": [],
   "source": [
    "train('./RewardClip50', activation_function = torch.nn.Tanh, orthagonal_init=True, grad_norm = 0.5, reward_clip=50.0)"
   ]
  },
  {
   "cell_type": "code",
   "execution_count": null,
   "id": "ffd3ce15-d07e-46d6-b5c8-d7df23ccba6f",
   "metadata": {},
   "outputs": [],
   "source": [
    "train('./RewardClip25', activation_function = torch.nn.Tanh, orthagonal_init=True, grad_norm = 0.5, reward_clip=25.0)"
   ]
  },
  {
   "cell_type": "code",
   "execution_count": null,
   "id": "c0a1ef32-ae87-4b27-968f-ee69bab5c533",
   "metadata": {},
   "outputs": [],
   "source": [
    "train('./FinalModelVC', activation_function = torch.nn.Tanh, orthagonal_init=True, grad_norm = 0.5, value_clip = 0.2, value_clip = 0.2, annealing=True, train_stages=env.TRAIN_STAGE_FULL)"
   ]
  },
  {
   "cell_type": "code",
   "execution_count": null,
   "id": "f2d8674d-e2a9-4b84-bfe4-086e7fcac0b7",
   "metadata": {},
   "outputs": [],
   "source": []
  }
 ],
 "metadata": {
  "kernelspec": {
   "display_name": "Python 3 (ipykernel)",
   "language": "python",
   "name": "python3"
  },
  "language_info": {
   "codemirror_mode": {
    "name": "ipython",
    "version": 3
   },
   "file_extension": ".py",
   "mimetype": "text/x-python",
   "name": "python",
   "nbconvert_exporter": "python",
   "pygments_lexer": "ipython3",
   "version": "3.8.18"
  }
 },
 "nbformat": 4,
 "nbformat_minor": 5
}
